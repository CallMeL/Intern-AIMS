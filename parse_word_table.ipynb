{
  "nbformat": 4,
  "nbformat_minor": 0,
  "metadata": {
    "colab": {
      "name": "parse-word-table.ipynb",
      "provenance": [],
      "mount_file_id": "1Lx07XoG0lJUrW4h0XLnqNXgOvw6DFNi4",
      "authorship_tag": "ABX9TyMDMC91zERW5mxKUyrxrcvG",
      "include_colab_link": true
    },
    "kernelspec": {
      "name": "python3",
      "display_name": "Python 3"
    },
    "language_info": {
      "name": "python"
    }
  },
  "cells": [
    {
      "cell_type": "markdown",
      "metadata": {
        "id": "view-in-github",
        "colab_type": "text"
      },
      "source": [
        "<a href=\"https://colab.research.google.com/github/CallMeL/Intern-AIMS/blob/master/parse_word_table.ipynb\" target=\"_parent\"><img src=\"https://colab.research.google.com/assets/colab-badge.svg\" alt=\"Open In Colab\"/></a>"
      ]
    },
    {
      "cell_type": "code",
      "source": [
        "!pip install python-docx"
      ],
      "metadata": {
        "id": "v5ct2koNKiv5"
      },
      "execution_count": null,
      "outputs": []
    },
    {
      "cell_type": "code",
      "execution_count": 166,
      "metadata": {
        "id": "Jdfx4zzzKXdq"
      },
      "outputs": [],
      "source": [
        "import pandas as pd\n",
        "from docx import Document\n",
        "wordDoc = Document('/content/drive/MyDrive/template.docx')\n",
        "table0 = wordDoc.tables[0]\n",
        "data0 = [[cell.text for cell in row.cells] for row in table0.rows]\n",
        "df0 = pd.DataFrame(data0)\n",
        "df0.columns = ['key', 'value']\n",
        "df_table1 = df0\n",
        "df_table1 = df_table1.drop([0])\n",
        "\n",
        "table1 = wordDoc.tables[1]\n",
        "data1 = [[cell.text for cell in row.cells] for row in table1.rows]\n",
        "df1 = pd.DataFrame(data1)\n",
        "df1.columns = ['key', 'value']\n",
        "df_table2 = df1\n",
        "df_table2 = df_table2.drop([0])"
      ]
    },
    {
      "cell_type": "code",
      "source": [
        "df_table1"
      ],
      "metadata": {
        "id": "Hm1eOIMkLJUE"
      },
      "execution_count": null,
      "outputs": []
    },
    {
      "cell_type": "code",
      "source": [
        "df_table2"
      ],
      "metadata": {
        "id": "Rn_GknoePvqH"
      },
      "execution_count": null,
      "outputs": []
    },
    {
      "cell_type": "code",
      "source": [
        "key = ['projectName','pubManager','pubDepositer','pubSupervisor',\n",
        "             'pubFinanceConsultant','absFinancier','pubGuarantor','absAssetName',\n",
        "             'pubIntegratedCost','pubFundsUse','pubRepaySource','pubProspectiveEarnings',\n",
        "             'pubDueTime','virtualAmount','pubPrincipalType','projectGrade','absProjectSource',\n",
        "       'absIncomeRate','absPromanageRate','absTrustmanageRate','absCustodyFeeRate',\n",
        "              'absSuperviseRate','absFinanceRate','absInvestIncomeRate'\n",
        "       ]"
      ],
      "metadata": {
        "id": "p9mSlqvIaReB"
      },
      "execution_count": 167,
      "outputs": []
    },
    {
      "cell_type": "code",
      "source": [
        "df_out = pd.concat([df_table1,df_table2])"
      ],
      "metadata": {
        "id": "ITJuifpLRDMx"
      },
      "execution_count": 168,
      "outputs": []
    },
    {
      "cell_type": "code",
      "source": [
        "df_T = df_out.T"
      ],
      "metadata": {
        "id": "uwysEl_RZBHE"
      },
      "execution_count": 169,
      "outputs": []
    },
    {
      "cell_type": "code",
      "source": [
        "df_T.columns = key"
      ],
      "metadata": {
        "id": "fpkJuHeDZ2Vk"
      },
      "execution_count": 170,
      "outputs": []
    },
    {
      "cell_type": "code",
      "source": [
        "df_T = df_T.drop('key')"
      ],
      "metadata": {
        "id": "6q127ltZbMcN"
      },
      "execution_count": 171,
      "outputs": []
    },
    {
      "cell_type": "code",
      "source": [
        "df_T = df_T.reset_index(drop=True)"
      ],
      "metadata": {
        "id": "-aglAJDdXkTp"
      },
      "execution_count": 172,
      "outputs": []
    },
    {
      "cell_type": "code",
      "source": [
        "df_T"
      ],
      "metadata": {
        "colab": {
          "base_uri": "https://localhost:8080/",
          "height": 226
        },
        "id": "WtVWnZmrbVzQ",
        "outputId": "2acdbf31-7677-49f8-ded8-7e2bb9194671"
      },
      "execution_count": 173,
      "outputs": [
        {
          "output_type": "execute_result",
          "data": {
            "text/plain": [
              "          projectName    pubManager pubDepositer pubSupervisor  \\\n",
              "0  大家-济南城建三馆二期不动产债权计划  大家资产管理有限责任公司           佚名            佚名   \n",
              "\n",
              "  pubFinanceConsultant  absFinancier pubGuarantor    absAssetName  \\\n",
              "0                    无  济南城市建设集团有限公司            无  省会文化艺术中心三馆二期工程   \n",
              "\n",
              "  pubIntegratedCost               pubFundsUse  ... pubPrincipalType  \\\n",
              "0           预计4.90%  偿还项目前手英大-济南西城不动产债权投资计划融资  ...      按季付息，到期一次还本   \n",
              "\n",
              "   projectGrade absProjectSource absIncomeRate absPromanageRate  \\\n",
              "0  外评AAA，内评BBB+     中信银行济南天桥支行介绍       预计4.90%                无   \n",
              "\n",
              "  absTrustmanageRate absCustodyFeeRate absSuperviseRate absFinanceRate  \\\n",
              "0                  无              约5BP             约1BP              无   \n",
              "\n",
              "  absInvestIncomeRate  \n",
              "0                   无  \n",
              "\n",
              "[1 rows x 24 columns]"
            ],
            "text/html": [
              "\n",
              "  <div id=\"df-b7a3a695-d8f7-4366-8930-70a0d3142735\">\n",
              "    <div class=\"colab-df-container\">\n",
              "      <div>\n",
              "<style scoped>\n",
              "    .dataframe tbody tr th:only-of-type {\n",
              "        vertical-align: middle;\n",
              "    }\n",
              "\n",
              "    .dataframe tbody tr th {\n",
              "        vertical-align: top;\n",
              "    }\n",
              "\n",
              "    .dataframe thead th {\n",
              "        text-align: right;\n",
              "    }\n",
              "</style>\n",
              "<table border=\"1\" class=\"dataframe\">\n",
              "  <thead>\n",
              "    <tr style=\"text-align: right;\">\n",
              "      <th></th>\n",
              "      <th>projectName</th>\n",
              "      <th>pubManager</th>\n",
              "      <th>pubDepositer</th>\n",
              "      <th>pubSupervisor</th>\n",
              "      <th>pubFinanceConsultant</th>\n",
              "      <th>absFinancier</th>\n",
              "      <th>pubGuarantor</th>\n",
              "      <th>absAssetName</th>\n",
              "      <th>pubIntegratedCost</th>\n",
              "      <th>pubFundsUse</th>\n",
              "      <th>...</th>\n",
              "      <th>pubPrincipalType</th>\n",
              "      <th>projectGrade</th>\n",
              "      <th>absProjectSource</th>\n",
              "      <th>absIncomeRate</th>\n",
              "      <th>absPromanageRate</th>\n",
              "      <th>absTrustmanageRate</th>\n",
              "      <th>absCustodyFeeRate</th>\n",
              "      <th>absSuperviseRate</th>\n",
              "      <th>absFinanceRate</th>\n",
              "      <th>absInvestIncomeRate</th>\n",
              "    </tr>\n",
              "  </thead>\n",
              "  <tbody>\n",
              "    <tr>\n",
              "      <th>0</th>\n",
              "      <td>大家-济南城建三馆二期不动产债权计划</td>\n",
              "      <td>大家资产管理有限责任公司</td>\n",
              "      <td>佚名</td>\n",
              "      <td>佚名</td>\n",
              "      <td>无</td>\n",
              "      <td>济南城市建设集团有限公司</td>\n",
              "      <td>无</td>\n",
              "      <td>省会文化艺术中心三馆二期工程</td>\n",
              "      <td>预计4.90%</td>\n",
              "      <td>偿还项目前手英大-济南西城不动产债权投资计划融资</td>\n",
              "      <td>...</td>\n",
              "      <td>按季付息，到期一次还本</td>\n",
              "      <td>外评AAA，内评BBB+</td>\n",
              "      <td>中信银行济南天桥支行介绍</td>\n",
              "      <td>预计4.90%</td>\n",
              "      <td>无</td>\n",
              "      <td>无</td>\n",
              "      <td>约5BP</td>\n",
              "      <td>约1BP</td>\n",
              "      <td>无</td>\n",
              "      <td>无</td>\n",
              "    </tr>\n",
              "  </tbody>\n",
              "</table>\n",
              "<p>1 rows × 24 columns</p>\n",
              "</div>\n",
              "      <button class=\"colab-df-convert\" onclick=\"convertToInteractive('df-b7a3a695-d8f7-4366-8930-70a0d3142735')\"\n",
              "              title=\"Convert this dataframe to an interactive table.\"\n",
              "              style=\"display:none;\">\n",
              "        \n",
              "  <svg xmlns=\"http://www.w3.org/2000/svg\" height=\"24px\"viewBox=\"0 0 24 24\"\n",
              "       width=\"24px\">\n",
              "    <path d=\"M0 0h24v24H0V0z\" fill=\"none\"/>\n",
              "    <path d=\"M18.56 5.44l.94 2.06.94-2.06 2.06-.94-2.06-.94-.94-2.06-.94 2.06-2.06.94zm-11 1L8.5 8.5l.94-2.06 2.06-.94-2.06-.94L8.5 2.5l-.94 2.06-2.06.94zm10 10l.94 2.06.94-2.06 2.06-.94-2.06-.94-.94-2.06-.94 2.06-2.06.94z\"/><path d=\"M17.41 7.96l-1.37-1.37c-.4-.4-.92-.59-1.43-.59-.52 0-1.04.2-1.43.59L10.3 9.45l-7.72 7.72c-.78.78-.78 2.05 0 2.83L4 21.41c.39.39.9.59 1.41.59.51 0 1.02-.2 1.41-.59l7.78-7.78 2.81-2.81c.8-.78.8-2.07 0-2.86zM5.41 20L4 18.59l7.72-7.72 1.47 1.35L5.41 20z\"/>\n",
              "  </svg>\n",
              "      </button>\n",
              "      \n",
              "  <style>\n",
              "    .colab-df-container {\n",
              "      display:flex;\n",
              "      flex-wrap:wrap;\n",
              "      gap: 12px;\n",
              "    }\n",
              "\n",
              "    .colab-df-convert {\n",
              "      background-color: #E8F0FE;\n",
              "      border: none;\n",
              "      border-radius: 50%;\n",
              "      cursor: pointer;\n",
              "      display: none;\n",
              "      fill: #1967D2;\n",
              "      height: 32px;\n",
              "      padding: 0 0 0 0;\n",
              "      width: 32px;\n",
              "    }\n",
              "\n",
              "    .colab-df-convert:hover {\n",
              "      background-color: #E2EBFA;\n",
              "      box-shadow: 0px 1px 2px rgba(60, 64, 67, 0.3), 0px 1px 3px 1px rgba(60, 64, 67, 0.15);\n",
              "      fill: #174EA6;\n",
              "    }\n",
              "\n",
              "    [theme=dark] .colab-df-convert {\n",
              "      background-color: #3B4455;\n",
              "      fill: #D2E3FC;\n",
              "    }\n",
              "\n",
              "    [theme=dark] .colab-df-convert:hover {\n",
              "      background-color: #434B5C;\n",
              "      box-shadow: 0px 1px 3px 1px rgba(0, 0, 0, 0.15);\n",
              "      filter: drop-shadow(0px 1px 2px rgba(0, 0, 0, 0.3));\n",
              "      fill: #FFFFFF;\n",
              "    }\n",
              "  </style>\n",
              "\n",
              "      <script>\n",
              "        const buttonEl =\n",
              "          document.querySelector('#df-b7a3a695-d8f7-4366-8930-70a0d3142735 button.colab-df-convert');\n",
              "        buttonEl.style.display =\n",
              "          google.colab.kernel.accessAllowed ? 'block' : 'none';\n",
              "\n",
              "        async function convertToInteractive(key) {\n",
              "          const element = document.querySelector('#df-b7a3a695-d8f7-4366-8930-70a0d3142735');\n",
              "          const dataTable =\n",
              "            await google.colab.kernel.invokeFunction('convertToInteractive',\n",
              "                                                     [key], {});\n",
              "          if (!dataTable) return;\n",
              "\n",
              "          const docLinkHtml = 'Like what you see? Visit the ' +\n",
              "            '<a target=\"_blank\" href=https://colab.research.google.com/notebooks/data_table.ipynb>data table notebook</a>'\n",
              "            + ' to learn more about interactive tables.';\n",
              "          element.innerHTML = '';\n",
              "          dataTable['output_type'] = 'display_data';\n",
              "          await google.colab.output.renderOutput(dataTable, element);\n",
              "          const docLink = document.createElement('div');\n",
              "          docLink.innerHTML = docLinkHtml;\n",
              "          element.appendChild(docLink);\n",
              "        }\n",
              "      </script>\n",
              "    </div>\n",
              "  </div>\n",
              "  "
            ]
          },
          "metadata": {},
          "execution_count": 173
        }
      ]
    },
    {
      "cell_type": "code",
      "source": [
        "import json\n",
        "result = df_T.to_json(orient=\"records\")\n",
        "parsed = json.loads(result)\n",
        "data = json.dumps(parsed, sort_keys=False, indent=4, ensure_ascii=False)  \n",
        "print(data)"
      ],
      "metadata": {
        "colab": {
          "base_uri": "https://localhost:8080/"
        },
        "id": "_w2iCCOzRWk5",
        "outputId": "4688a7dd-369a-4451-8def-4678c2d5418b"
      },
      "execution_count": 174,
      "outputs": [
        {
          "output_type": "stream",
          "name": "stdout",
          "text": [
            "[\n",
            "    {\n",
            "        \"projectName\": \"大家-济南城建三馆二期不动产债权计划\",\n",
            "        \"pubManager\": \"大家资产管理有限责任公司\",\n",
            "        \"pubDepositer\": \"佚名\",\n",
            "        \"pubSupervisor\": \"佚名\",\n",
            "        \"pubFinanceConsultant\": \"无\",\n",
            "        \"absFinancier\": \"济南城市建设集团有限公司\",\n",
            "        \"pubGuarantor\": \"无\",\n",
            "        \"absAssetName\": \"省会文化艺术中心三馆二期工程\",\n",
            "        \"pubIntegratedCost\": \"预计4.90%\",\n",
            "        \"pubFundsUse\": \"偿还项目前手英大-济南西城不动产债权投资计划融资\",\n",
            "        \"pubRepaySource\": \"融资主体全部可偿债现金流，包括但不限于经营性现金流、投资现金流及其他可支配现金流\",\n",
            "        \"pubProspectiveEarnings\": \"预期收益率暂定4.6%（税前），税后约4.4%\",\n",
            "        \"pubDueTime\": \"3年\",\n",
            "        \"virtualAmount\": \"18亿元\",\n",
            "        \"pubPrincipalType\": \"按季付息，到期一次还本\",\n",
            "        \"projectGrade\": \"外评AAA，内评BBB+\",\n",
            "        \"absProjectSource\": \"中信银行济南天桥支行介绍\",\n",
            "        \"absIncomeRate\": \"预计4.90%\",\n",
            "        \"absPromanageRate\": \"无\",\n",
            "        \"absTrustmanageRate\": \"无\",\n",
            "        \"absCustodyFeeRate\": \"约5BP\",\n",
            "        \"absSuperviseRate\": \"约1BP\",\n",
            "        \"absFinanceRate\": \"无\",\n",
            "        \"absInvestIncomeRate\": \"无\"\n",
            "    }\n",
            "]\n"
          ]
        }
      ]
    }
  ]
}